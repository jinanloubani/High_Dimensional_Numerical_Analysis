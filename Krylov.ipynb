{
 "cells": [
  {
   "cell_type": "markdown",
   "metadata": {
    "collapsed": true
   },
   "source": [
    "# Méthodes de Krylov pour les éléments propres"
   ]
  },
  {
   "cell_type": "markdown",
   "metadata": {},
   "source": [
    "Dans ce travail, on se propose d'implémenter méthode des sous-espaces de Krylov pour le calcul d'éléments propres. On va procéder par étapes en commençant par l'implémentation du procédé d'Arnoldi. **ATTENTION**: les matrices servant à faire les tests seront creuses, c'est-à-dire au format \"sparse\" de scipy. On prendra soin d'appeler les fonctions sous-jacentes aux variables pour faire des opérations comme le produit scalaire!"
   ]
  },
  {
   "cell_type": "markdown",
   "metadata": {},
   "source": [
    "### Importation des librairies usuelles"
   ]
  },
  {
   "cell_type": "code",
   "execution_count": null,
   "metadata": {},
   "outputs": [],
   "source": [
    "import numpy as np\n",
    "import scipy as sp\n",
    "import scipy.sparse as spsp\n",
    "import numpy.linalg as npl\n",
    "import scipy.sparse.linalg as spspl\n",
    "import matplotlib.pylab as plt\n",
    "%matplotlib inline"
   ]
  },
  {
   "cell_type": "markdown",
   "metadata": {},
   "source": [
    "## Procédé d'Arnoldi"
   ]
  },
  {
   "cell_type": "markdown",
   "metadata": {},
   "source": [
    "La première étape de ce travail consiste à implémenter le procédé d'Arnoldi. Soit $A\\in M_n(\\mathbb{R})$ et $b\\in\\mathbb{R}^n$. On rappelle que le procédé d'Arnoldi permet de construire des bases orthonormées des sous-espaces de Krylov\n",
    "\n",
    "$$\n",
    "\\mathcal{K}_k(A,b) = \\textrm{Vect}\\{b,Ab,A^2b,\\ldots,A^{k-1}b\\}.\n",
    "$$\n",
    "\n",
    "Soit $(Q_k)_{k\\geq 1}$ une suite de base orthonormée des sous-espaces $(\\mathcal{K}_k(A,b))_{k\\geq 1}$. On a de façon évidente\n",
    "\n",
    "$$\n",
    "Q_1 = [q^1] = [\\,b/\\|b\\|_2\\,]\\in M_{n,1}(\\mathbb{R}).\n",
    "$$\n",
    "\n",
    "On note $Q_k = [q^1,q^2,\\ldots,q^k]\\in M_{n,k}(\\mathbb{R})$ où la famille $(q^j)_{1\\leq j\\leq k}$ est une base orthonormée de l'espace $\\mathcal{K}_k(A,b)$. Pour passer de la matrice $Q_k$ à la matrice $Q_{k+1}$, on a la relation\n",
    "\n",
    "$$\n",
    "AQ_k = Q_{k+1} H_{(k+1,k)},\n",
    "$$\n",
    "\n",
    "où la matrice $H_{(k+1,k)}\\in M_{k+1,k}(\\mathbb{R})$ est de type Hessenberg. De manière itérative, étant donné la matrice $H_{(k,k-1)}$, le passage de $Q_k$ à $Q_{k+1}$ correspond à l'ajout d'un vecteur $q^{k+1}$ dans la base $Q_k$ mais aussi à l'agrandissement de la matrice $H$ par l'ajout d'une ligne de zéros de longueur $k$ puis d'une colonne de longueur $k+1$. Ainsi, lorsque l'on veut calculer le vecteur $q^{k+1}$ de la base $Q_{k+1}$, on fait\n",
    "\n",
    "$$\n",
    "p^{k+1} = Aq^k,\n",
    "$$\n",
    "\n",
    "puis l'on calcul les coefficient d'orthonogonalisation (qui correspondent aux $k$ premiers coefficients de la colonne à ajouter à la matrice $H$)\n",
    "\n",
    "$$\n",
    "h_{j,k} = \\langle q^j,p^{k+1}\\rangle,\\quad \\textrm{pour}\\quad 1\\leq j\\leq k,\n",
    "$$\n",
    "\n",
    "et, finalement, on orthogonalise le vecteur $p^{k+1}$ par rapport à $Q_k$ pour déduire le vecteur $q^{k+1}$ comme suit\n",
    "\n",
    "$$\\begin{array}{ll}\n",
    "r^{k+1} &= p^{k+1} - \\sum_{j = 1}^k h_{j,k} q^j,\n",
    "\\\\ h_{k+1,k} &= \\|r^{k+1}\\|_2\n",
    "\\\\ q^{k+1} &= r^{k+1}/h_{k+1,k}.\n",
    "\\end{array}\n",
    "$$\n",
    "\n",
    "On propose d'implémenter une fonction `Step_Arnoldi` qui met en oeuvre l'ajout d'un vecteur $q^{k+1}$ à la base $Q_k$ et aussi l'ajout de la colonne $(h_{j,k})_{1\\leq j\\leq k+1}$ à la matrice $H_{(k,k-1)}$ pour $k\\geq 2$. On remarque ainsi que l'on ne fera pas la première étape et, donc, que le vecteur $q^1$ (et donc $b$) sera déjà donné par l'utilisateur. Vous prendrez en arguments d'entrée:\n",
    "- A: la matrice de la base de Krylov,\n",
    "- Q: la matrice correspondant à la base $Q_k$,\n",
    "- H: la matrice correspondant à la matrice $H_{(k,k-1)}$,\n",
    "\n",
    "et en arguments de sortie:\n",
    "- Q: la matrice correspondant à la base $Q_{k+1}$,\n",
    "- H: la matrice correspondant à la matrice $H_{(k+1,k)}$.\n",
    "\n",
    "Pour $k = 1$, la matrice $H_{(k,k-1)}$ n'est pas définie. On peut alors transmettre la variable d'entrée correspondante sous le format `None` et le traiter comme un cas à part dans la fonction.\n",
    "\n",
    "> **À faire:** Implémenter la fonction `Step_Arnoldi` puis tester cette dernière en construisant une base de Krylov pour une matrice et un vecteur aléatoires de taille $10$. Vérifiez que la matrice de la base est bien orthogonale et que la relation matricielle $AQ_k = Q_{k+1} H_{(k+1,k)}$ est valide."
   ]
  },
  {
   "cell_type": "code",
   "execution_count": null,
   "metadata": {},
   "outputs": [],
   "source": [
    "def Step_Arnoldi(A,Q,H):\n",
    "    n,k = np.shape(Q)\n",
    "    h = np.zeros((k+1,1))\n",
    "    q = np.zeros((n,1))\n",
    "    p = A.dot(Q[:,-1])\n",
    "    h[0:k,0] = Q.T.dot(p)\n",
    "    p -= Q.dot(h[0:k,0])\n",
    "    h[k,0] = npl.norm(p)\n",
    "    if H is None:\n",
    "        H = h\n",
    "    else:\n",
    "        m = np.zeros((1,k-1))\n",
    "        H = np.concatenate((H,m),axis = 0)\n",
    "        H = np.concatenate((H,h),axis = 1)\n",
    "    p = p/h[k,0]\n",
    "    q[0:n,0] = p\n",
    "    Q = np.concatenate((Q,q),axis = 1)\n",
    "    return Q,H"
   ]
  },
  {
   "cell_type": "code",
   "execution_count": null,
   "metadata": {},
   "outputs": [],
   "source": [
    "N = 5\n",
    "A = spsp.random(N,N,density=0.5)\n",
    "b = np.random.random((N,1))\n",
    "Q = np.zeros((N,1))\n",
    "H = None\n",
    "Q[:,0] = b[:,0]/npl.norm(b)\n",
    "for j in range(N-1):\n",
    "    Q,H = Step_Arnoldi(A,Q,H)\n",
    "print(H)\n",
    "print(\"Orthongonalité de Q:\", np.allclose(Q.T.dot(Q),np.eye(N)))\n",
    "print(\"Matrice de Hessenberg H:\")\n",
    "print(H)\n",
    "print(\"Relation d'Arnoldi:\", np.allclose(A.dot(Q[:,0:N-1]),Q.dot(H)))"
   ]
  },
  {
   "cell_type": "markdown",
   "metadata": {},
   "source": [
    "## Méthode d'Arnoldi"
   ]
  },
  {
   "cell_type": "markdown",
   "metadata": {},
   "source": [
    "On passe maintenant à la méthode d'Arnoldi. On rappelle que l'algorithme de cette méthode s'écrit formellement\n",
    "\n",
    "$$\n",
    "\\left\\{\\begin{array}{ll}\n",
    "b\\in \\mathbb{R}^n,\\\\\n",
    "Q_0 = [\\,b/\\|b\\|_2\\,],\\\\\n",
    "\\textrm{Pour }k=1,2,\\ldots\\\\\\left\\{\\begin{array}{ll}\n",
    "\\textrm{Calculer}\\; Q_{k+1}H_{(k+1,k)} = A Q_k\\;\\textrm{par Arnoldi},\\\\\n",
    "\\textrm{Calculer les valeurs propres de}\\;H_{(k,k)},\\\\\n",
    "\\textrm{Test de convergence}.\\\\\n",
    "\\end{array}\\right.\n",
    "\\end{array}\\right.\n",
    "$$\n",
    "\n",
    "Le procédé d'Arnoldi permet de répondre directement à la première étape de la boucle sur $k$. Concernant la deuxième étape, on peut utiliser la méthode QR avec mise sous forme de Hessenberg, translation et déflation. On fournit ci-dessous des fonctions permettant de mettre en oeuvre le calcul des valeurs propres (et éventuellement vecteurs propres):"
   ]
  },
  {
   "cell_type": "code",
   "execution_count": null,
   "metadata": {},
   "outputs": [],
   "source": [
    "def QR_HessenH(M):\n",
    "    n = np.shape(M)[0]\n",
    "    U = np.eye(n)\n",
    "    R = np.copy(M)\n",
    "    for k in range(n-1):\n",
    "        x = R[k:k+2,k]\n",
    "        l = npl.norm(x)\n",
    "        c = x[0]/l\n",
    "        s = x[1]/l\n",
    "        for P in [U,R]:\n",
    "            P_tmp_k = np.copy(P[k,:])\n",
    "            P_tmp_kp1 = np.copy(P[k+1,:])\n",
    "            P[k,:] = c*P_tmp_k + s*P_tmp_kp1\n",
    "            P[k+1,:] = c*P_tmp_kp1 - s*P_tmp_k\n",
    "    Q = U.T\n",
    "    return Q,R\n",
    "\n",
    "def Eig_QR_Defla(A, tol = 1e-7, itermax = None):\n",
    "    n,m = np.shape(A)\n",
    "    if n < 2:\n",
    "        return A,0\n",
    "    if itermax is None:\n",
    "        itermax = 1000*n\n",
    "    H = np.copy(A)\n",
    "    mu = H[n-1,n-1]\n",
    "    k = 0\n",
    "    I = np.eye(n)\n",
    "    Sd = np.zeros((n-1,1))\n",
    "    L = []\n",
    "    while (k<itermax):\n",
    "        k += 1\n",
    "        Q,R = QR_HessenH(H - mu*I)\n",
    "        H = R.dot(Q) + mu*I\n",
    "        H = np.triu(H,-1)\n",
    "        mu = H[n-1,n-1]\n",
    "        for l in range(n-1):\n",
    "            Sd[l] = np.copy(H[l+1,l])\n",
    "        i = np.argmin(abs(Sd))\n",
    "        if abs(Sd[i])<tol:\n",
    "            L1,ks1 = Eig_QR_Defla(H[0:i+1,0:i+1], tol, itermax)\n",
    "            L2,ks2 = Eig_QR_Defla(H[i+1:n,i+1:n], tol, itermax)\n",
    "            L = np.append(L,L2)\n",
    "            L = np.append(L,L1)\n",
    "            k = k + ks1 + ks2\n",
    "            return(L,k)\n",
    "    return np.diag(H),k"
   ]
  },
  {
   "cell_type": "markdown",
   "metadata": {},
   "source": [
    "Il nous reste donc à aborder la question du test de convergence. Dans ce travail, on va uniquement se baser sur les valeurs propres obtenues et le but va être d'approximer un certain nombre $p$ de valeurs propres. Le problème est que les valeurs propres vont changer à chaque itération et ne pas être forcément ranger de la même manière. Ainsi, à l'itération $k$, on obtient les valeurs propres $(\\lambda_j^{(k)})_{1\\leq j\\leq k}$ que l'on doit comparer avec les $(\\lambda_j^{(k-1)})_{1\\leq j\\leq k-1}$ de l'itération précédente. On propose le critère de convergence suivant\n",
    "\n",
    "$$\n",
    "\\textrm{Card}\\left(\\left\\{\\lambda_j^{(k)}; \\frac{|\\lambda_j^{(k)}-\\lambda_i^{(k-1)}|}{|\\lambda_i^{(k-1)}|}\\leq \\varepsilon\\quad\\textrm{pour un certain}\\; i \\right\\}\\right)\\geq p,\n",
    "$$\n",
    "\n",
    "qui nous assurera que l'on a atteint la précision $\\varepsilon$ pour au moins $p$ valeurs propres. En pratique, on peut former deux vecteur `a` et `b` puis utiliser la fonction `np.subtract.outer` pour obtenir l'ensemble des différences entre chaque coefficient de `a` et chaque coefficient de `b`. On obtient donc une matrice et il s'agit ensuite d'évaluer le nombre de coefficients inférieurs à $\\varepsilon$ dans cette dernière.\n",
    "\n",
    "> **À faire:** Implémenter la fonction `Arnoldi` qui met en oeuvre la méthode d'Arnoldi. Vous prendrez en arguments d'entrée:\n",
    "- A: la matrice dont on cherche les valeurs propres,\n",
    "- b: le vecteur pour la base de Krylov que l'on prendra de manière aléatoire si optionel,\n",
    "- p: le nombre de valeurs propres que l'on désire approximées que l'on prendra égal à 1 si optionel,\n",
    "- tol: la tolérance pour le critère d'arrêt que l'on prendra égal à 1e-3 si optionel.\n",
    "En sortie, vous retournerez:\n",
    "- L: une liste de vecteurs chacuns contenant les valeurs propres calculées à chaque itération,\n",
    "- k: le nombre total d'itérations."
   ]
  },
  {
   "cell_type": "code",
   "execution_count": null,
   "metadata": {},
   "outputs": [],
   "source": [
    "def Arnoldi(A, b = None, p = 1, tol = 1e-3):\n",
    "    n,m = np.shape(A)\n",
    "    if b is None:\n",
    "        b = np.random.random((n,1))\n",
    "    k = 0\n",
    "    b = np.reshape(b,(n,1))\n",
    "    Q = np.zeros((n,1))\n",
    "    Q[:,0] = b[:,0]/npl.norm(b)\n",
    "    H = None\n",
    "    L = []\n",
    "    lt = 0\n",
    "    for k in range(n):\n",
    "        k += 1\n",
    "        Q,H = Step_Arnoldi(A,Q,H)\n",
    "        l,niter = Eig_QR_Defla(H[0:k,0:k])\n",
    "        d = abs(np.subtract.outer(l,lt))\n",
    "        if np.size(d[d<tol]) >= p:\n",
    "            L += [l]\n",
    "            return L,k\n",
    "        lt = l\n",
    "        L += [l]\n",
    "    return L,k"
   ]
  },
  {
   "cell_type": "markdown",
   "metadata": {},
   "source": [
    "> **À faire:** Tester la méthode d'Arnoldi sur une matrice creuse aléatoire de taille 200 et afficher l'évolution des valeurs propres en fonctions des itérations. Qu'observez vous?"
   ]
  },
  {
   "cell_type": "code",
   "execution_count": null,
   "metadata": {},
   "outputs": [],
   "source": [
    "N = 200\n",
    "D = spsp.diags(np.random.random(N))\n",
    "E = 1e-3*spsp.random(N,N,density=0.25)\n",
    "A = D+E\n",
    "L,k = Arnoldi(A)\n",
    "for i in range(np.size(L)):\n",
    "    plt.scatter((i+1)*np.ones((i+1,1)),L[i])\n",
    "plt.show()"
   ]
  },
  {
   "cell_type": "markdown",
   "metadata": {},
   "source": [
    "## Méthode de Lanczos"
   ]
  },
  {
   "cell_type": "markdown",
   "metadata": {},
   "source": [
    "Si la matrice $A$ est symétrique, le procédé d'Arnoldi se simplifie puisque l'on obtient une relation du type\n",
    "\n",
    "$$\n",
    "AQ_k = Q_{k+1} T_{(k+1,k)},\n",
    "$$\n",
    "\n",
    "où la matrice $T_{(k+1,k)}$ est tridiagonale. On note ses coefficients\n",
    "\n",
    "$$\n",
    "\\alpha_k = T_{k,k}\\quad\\textrm{et}\\quad \\beta_{k+1} = T_{k+1,k} = T_{k,k+1}.\n",
    "$$\n",
    "\n",
    "En initialisant, $q^1 = b\\,/\\,\\|b\\|_2$, $q^0 = 0$ et $\\beta_1 = 0$, le procédé d'Arnoldi devient alors le procédé de Lanczos que dont on écrit une étape, pour $k\\geq 1$, comme\n",
    "\n",
    "$$\\begin{array}{ll}\n",
    "v_k &= \\; Aq^k - \\beta_k q^{k-1},\\\\\n",
    "\\alpha_k & = \\;\\langle q^k,v_k \\rangle,\\\\\n",
    "w_k & = \\;v_k - \\alpha_k q^k,\\\\\n",
    "\\beta_{k+1} & =\\; \\|w_k\\|_2,\\\\\n",
    "q^{k+1} &= \\; w_k / \\beta_{k+1}.\n",
    "\\end{array}\n",
    "$$\n",
    "\n",
    "> **À faire:** Implémenter la fonction `Step_Lanczos` qui met en oeuvre le procédé de Lanczos. Vous prendrez en arguments d'entrée:\n",
    "- A: la matrice dont on cherche les valeurs propres,\n",
    "- Q: la matrice correspondant à la base $Q_k$,\n",
    "- T: la matrice correspondant à la matrice $T_{(k,k-1)}$.\n",
    "\n",
    ">En sortie, vous retournerez:\n",
    "- Q: la matrice correspondant à la base $Q_{k+1}$,\n",
    "- T: la matrice correspondant à la matrice $T_{(k+1,k)}$.\n",
    "\n",
    "> Vous prendrez soin de traiter le cas $k = 1$ en initialisant convenablement le procédé. Vous pourrez d'ailleurs détecter ce cas en mettant la variable T d'entrée comme étant `None`."
   ]
  },
  {
   "cell_type": "code",
   "execution_count": null,
   "metadata": {},
   "outputs": [],
   "source": [
    "def Step_Lanczos(A,Q,T):\n",
    "    if T is None:\n",
    "        n,k = np.shape(Q)\n",
    "        v = A.dot(Q[:,0])\n",
    "        a = Q[:,0].dot(v)\n",
    "        v -= a*Q[:,0]\n",
    "        v = np.reshape(v,(n,1))\n",
    "        b = npl.norm(v)\n",
    "        Q = np.concatenate((Q,v/b),axis = 1)\n",
    "        T = np.zeros((2,1))\n",
    "        T[0,0] = a\n",
    "        T[1,0] = b\n",
    "    else:\n",
    "        n,k = np.shape(Q)\n",
    "        v = A.dot(Q[:,k-1]) - T[k-1,k-2]*Q[:,k-2]\n",
    "        a = Q[:,k-1].dot(v)\n",
    "        v -= a*Q[:,k-1]\n",
    "        v = np.reshape(v,(n,1))\n",
    "        b = npl.norm(v)\n",
    "        Q = np.concatenate((Q,v/b),axis = 1)\n",
    "        m = np.zeros((1,k-1))\n",
    "        T = np.concatenate((T,m),axis = 0)\n",
    "        l = np.zeros((k+1,1))\n",
    "        l[k-2,0] = T[k-1,k-2]\n",
    "        l[k-1,0] = a\n",
    "        l[k,0] = b\n",
    "        T = np.concatenate((T,l),axis = 1)\n",
    "    return Q,T"
   ]
  },
  {
   "cell_type": "markdown",
   "metadata": {},
   "source": [
    "> **À faire:** Tester la fonction `Step_Lanczos` en construisant une base de Krylov pour une matrice symétrique et un vecteur aléatoires de taille $10$. Vérifiez que la matrice de la base est bien orthogonale et que la relation matricielle $AQ_k = Q_{k+1} T_{(k+1,k)}$ est valide."
   ]
  },
  {
   "cell_type": "code",
   "execution_count": null,
   "metadata": {},
   "outputs": [],
   "source": [
    "N = 5\n",
    "B = spsp.random(N,N,density=0.5)\n",
    "A = 0.5*(B.T+B)\n",
    "b = np.random.random((N,1))\n",
    "Q = np.zeros((N,1))\n",
    "T = None\n",
    "Q[:,0] = b[:,0]/npl.norm(b)\n",
    "for j in range(N-1):\n",
    "    Q,T = Step_Lanczos(A,Q,T)\n",
    "print(\"Orthongonalité de Q:\", np.allclose(Q.T.dot(Q),np.eye(N)))\n",
    "print(\"Matrice de tridiagonale T:\")\n",
    "print(T)\n",
    "print(\"Relation de Lanczos:\", np.allclose(A.dot(Q[:,0:N-1]),Q.dot(T)))"
   ]
  },
  {
   "cell_type": "markdown",
   "metadata": {},
   "source": [
    "> **À faire:** Implémenter la fonction `Lanczos` qui met en oeuvre la méthode de Lanczos. Vous prendrez en arguments d'entrée:\n",
    "- A: la matrice dont on cherche les valeurs propres,\n",
    "- b: le vecteur pour la base de Krylov que l'on prendra de manière aléatoire si optionel,\n",
    "- p: le nombre de valeurs propres que l'on désire approximées que l'on prendra égal à 1 si optionel,\n",
    "- tol: la tolérance pour le critère d'arrêt que l'on prendra égal à 1e-3 si optionel.\n",
    "En sortie, vous retournerez:\n",
    "- L: une liste des vecteurs propres obtenus,\n",
    "- k: le nombre total d'itérations."
   ]
  },
  {
   "cell_type": "code",
   "execution_count": null,
   "metadata": {},
   "outputs": [],
   "source": [
    "def Lanczos(A, b = None, p = 1, tol = 5e-1):\n",
    "    n,m = np.shape(A)\n",
    "    if b is None:\n",
    "        b = np.random.random((n,1))\n",
    "    k = 0\n",
    "    b = np.reshape(b,(n,1))\n",
    "    Q = np.zeros((n,1))\n",
    "    Q[:,0] = b[:,0]/npl.norm(b)\n",
    "    H = None\n",
    "    Lt = 0\n",
    "    for k in range(n):\n",
    "        k += 1\n",
    "        Q,H = Step_Lanczos(A,Q,H)\n",
    "        L,niter = Eig_QR_Defla(H[0:k,0:k])\n",
    "        d = abs(np.subtract.outer(L,Lt))\n",
    "        if np.size(d[d<tol]) >= p:\n",
    "            return L,k\n",
    "        Lt = L\n",
    "    return L,k"
   ]
  },
  {
   "cell_type": "markdown",
   "metadata": {},
   "source": [
    "> **À faire:** Tester la méthode de Lanczos sur une matrice du laplacien en différences finies pour la recherche d'une seule valeur propre et comparer le résultat avec les valeurs exactes. Combien de valeurs propres sont approximées avec une erreur relative d'ordre $10^{-2}$? Et à l'ordre $10^{-3}$?"
   ]
  },
  {
   "cell_type": "code",
   "execution_count": null,
   "metadata": {},
   "outputs": [],
   "source": [
    "def Laplacian(n) :\n",
    "    return (n+1)**2*sp.sparse.diags([2*np.ones(n),-1*np.ones(n-1),-1*np.ones(n-1)], [0, -1, 1]).tocsc()\n",
    "def Eig_Lapl(n):\n",
    "    return np.array(4*((n+1)*np.sin(np.arange(1,n+1)*np.pi/(2*(n+1))))**2)"
   ]
  },
  {
   "cell_type": "code",
   "execution_count": null,
   "metadata": {},
   "outputs": [],
   "source": [
    "n = 100\n",
    "Lap = Laplacian(n)\n",
    "L,niter = Lanczos(Lap)\n",
    "L_exact = Eig_Lapl(n)\n",
    "Err = abs(np.subtract.outer(L,L_exact))/L_exact\n",
    "print(\"Nombre de valeurs propres approximées à l'ordre 1e-2:\",np.size(Err[Err<1e-2]))\n",
    "print(\"Nombre de valeurs propres approximées à l'ordre 1e-3:\",np.size(Err[Err<1e-3]))"
   ]
  }
 ],
 "metadata": {
  "kernelspec": {
   "display_name": "Python 3",
   "language": "python",
   "name": "python3"
  },
  "language_info": {
   "codemirror_mode": {
    "name": "ipython",
    "version": 3
   },
   "file_extension": ".py",
   "mimetype": "text/x-python",
   "name": "python",
   "nbconvert_exporter": "python",
   "pygments_lexer": "ipython3",
   "version": "3.8.3"
  }
 },
 "nbformat": 4,
 "nbformat_minor": 1
}
