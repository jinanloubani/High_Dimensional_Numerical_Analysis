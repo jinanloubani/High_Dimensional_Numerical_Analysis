{
 "cells": [
  {
   "cell_type": "markdown",
   "metadata": {},
   "source": [
    "# La méthode de la puissance "
   ]
  },
  {
   "cell_type": "code",
   "execution_count": null,
   "metadata": {},
   "outputs": [],
   "source": [
    "import numpy as np\n",
    "import scipy as sp\n",
    "import numpy.linalg as npl\n",
    "import scipy.linalg as spl\n",
    "import scipy.sparse.linalg as sspl\n",
    "M = np.load(\"Matrice.npy\")"
   ]
  },
  {
   "cell_type": "markdown",
   "metadata": {},
   "source": [
    "L'objectif de ce travail l'observation du comportement de diverses stratégies \n",
    "associées à la méthode de la puissance, ou de la puissance inverse.\n",
    "\n",
    "On se placera dans le cas ou la matrice $M$ dont on veut calculer une valeur\n",
    "propre est symétrique.\n"
   ]
  },
  {
   "cell_type": "markdown",
   "metadata": {},
   "source": [
    "On va s'intéresser à la méthode de la puissance inverse pour le calcul \n",
    "de la plus petite valeur propre d'une matrice $M$  qui vous est fournie, \n",
    "dans le fichier Matrice.mat. La matrice $M$ est symétrique \n",
    "définie positive. \n",
    "Comme nous voulons comparer différentes méthodes, le vecteur initial des \n",
    "iterations \n",
    "sera un argument des fonctions mettant en oeuvre les différentes méthodes."
   ]
  },
  {
   "cell_type": "markdown",
   "metadata": {},
   "source": [
    "#### Les fonctions PinvInf et PinvN2"
   ]
  },
  {
   "cell_type": "markdown",
   "metadata": {},
   "source": [
    "Créer les fonction PinvInf et PinvN2. La première de ces fonctions mettra en oeuvre l'algorithme de la table 1.1, \n",
    "page 13 du polycopié, et la seconde adaptera cette dernière mais pour la norme infinie. \n",
    "Pour chaque methode, le test de convergence se fera sur l'écart entre deux itérés successifs de la valeur propre approximée. Le nombre maximum\n",
    "d'iterations sera limité à deux fois la taille du problème."
   ]
  },
  {
   "cell_type": "code",
   "execution_count": null,
   "metadata": {},
   "outputs": [],
   "source": [
    "def PinvInf(A,x,tol):\n",
    "    # Arguments en entrée:\n",
    "    # A : la matrice\n",
    "    # x : le vecteur initial\n",
    "    # tol : le seuil de précision de la méthode\n",
    "    # Arguments en sortie:\n",
    "    # l : la plus petite valeur propre de la matrice A\n",
    "    # u : le vecteur propre associé à l\n",
    "    # Niter : le nombre d'itérations de la méthode\n",
    "    \n",
    "    Niter = 0\n",
    "    x = x/npl.norm(x,np.inf)\n",
    "    P,L,U = spl.lu(A)\n",
    "    l = tol\n",
    "    ltmp = 0\n",
    "    while abs(l-ltmp)>tol*abs(l):\n",
    "        Niter += 1\n",
    "        ltmp = l\n",
    "        if Niter>2*np.shape(A)[0]:\n",
    "            break\n",
    "        y = spl.solve_triangular(L,x,lower = 1)\n",
    "        x = spl.solve_triangular(U,y)\n",
    "        j = np.argmax(np.abs(x))\n",
    "        l = x[j]\n",
    "        x = x/abs(l)\n",
    "    return 1./l,x,Niter\n",
    "\n",
    "x0 = np.random.rand(np.shape(M)[0])\n",
    "l,u,Niter = PinvInf(M,x0,1e-10)\n",
    "print(Niter)\n",
    "print(l)"
   ]
  },
  {
   "cell_type": "code",
   "execution_count": null,
   "metadata": {},
   "outputs": [],
   "source": [
    "def PinvN2(A,x,tol):\n",
    "    # Arguments en entrée:\n",
    "    # A : la matrice\n",
    "    # x : le vecteur initial\n",
    "    # tol : le seuil de précision de la méthode\n",
    "    # Arguments en sortie:\n",
    "    # l : la plus petite valeur propre de la matrice A\n",
    "    # u : le vecteur propre associé à l\n",
    "    # Niter : le nombre d'itérations de la méthode\n",
    "    \n",
    "    Niter = 0\n",
    "    x = x/npl.norm(x)\n",
    "    P,L,U = spl.lu(A)\n",
    "    l = tol\n",
    "    ltmp = 0\n",
    "    while abs(l-ltmp)>tol*abs(l):\n",
    "        Niter += 1\n",
    "        ltmp = l\n",
    "        if Niter>2*np.shape(A)[0]:\n",
    "            break\n",
    "        y = spl.solve_triangular(L,x,lower = 1)\n",
    "        z = spl.solve_triangular(U,y)\n",
    "        l = np.dot(x,z)\n",
    "        x = z/npl.norm(z)\n",
    "    return 1./l,x,Niter\n",
    "\n",
    "x0 = np.random.rand(np.shape(M)[0])\n",
    "l,u,Niter = PinvN2(M,x0,1e-10)\n",
    "print(Niter)\n",
    "print(l)"
   ]
  },
  {
   "cell_type": "markdown",
   "metadata": {},
   "source": [
    "#### Les fonctions TinvInf et TinvN2"
   ]
  },
  {
   "cell_type": "markdown",
   "metadata": {},
   "source": [
    "Modifier ces fonctions pour qu'elles mettent en oeuvre une stratégie\n",
    "de translation-inversion de façon à chercher la valeur propre la plus\n",
    "proche d'un nombre donné. Vous appelerez ces fonctions TinvInf et TinvN2 ; cette stratégie est décrite à la section 1.2.3, page 17 du polycopié. On ajoutera le paramètre $\\sigma $ à la liste des variables en entrée."
   ]
  },
  {
   "cell_type": "code",
   "execution_count": null,
   "metadata": {},
   "outputs": [],
   "source": [
    "def TinvInf(A,x,sigma,tol):\n",
    "    # Arguments en entrée:\n",
    "    # A : la matrice\n",
    "    # x : le vecteur initial\n",
    "    # sigma : la valeur du shift\n",
    "    # tol : le seuil de précision de la méthode\n",
    "    # Arguments en sortie:\n",
    "    # l : la valeur propre la plus proche de sigma\n",
    "    # u : le vecteur propre associé à l\n",
    "    # Niter : le nombre d'itérations de la méthode\n",
    "    \n",
    "    Niter = 0\n",
    "    x = x/npl.norm(x)\n",
    "    P,L,U = spl.lu(A-sigma*np.eye(np.shape(A)[0]))\n",
    "    l = tol\n",
    "    ltmp = 0\n",
    "    while abs(l-ltmp)>tol*abs(l):\n",
    "        Niter += 1\n",
    "        ltmp = l\n",
    "        if Niter>2*np.shape(A)[0]:\n",
    "            break\n",
    "        y = spl.solve_triangular(L,x,lower = 1)\n",
    "        x = spl.solve_triangular(U,y)\n",
    "        j = np.argmax(np.abs(x))\n",
    "        l = x[j]\n",
    "        x = x/abs(l)\n",
    "    return 1./l+sigma,x,Niter\n",
    "\n",
    "x0 = np.random.rand(np.shape(M)[0])\n",
    "l,u,Niter = TinvInf(M,x0,0.01,1e-10)\n",
    "print(l)\n",
    "print(Niter)"
   ]
  },
  {
   "cell_type": "code",
   "execution_count": null,
   "metadata": {},
   "outputs": [],
   "source": [
    "def TinvN2(A,x,sigma,tol):\n",
    "    # Arguments en entrée:\n",
    "    # A : la matrice\n",
    "    # x : le vecteur initial\n",
    "    # sigma : la valeur du shift\n",
    "    # tol : le seuil de précision de la méthode\n",
    "    # Arguments en sortie:\n",
    "    # l : la valeur propre la plus proche de sigma\n",
    "    # u : le vecteur propre associé à l\n",
    "    # Niter : le nombre d'itérations de la méthode\n",
    "    \n",
    "    Niter = 0\n",
    "    x = x/npl.norm(x)\n",
    "    P,L,U = spl.lu(A-sigma*np.eye(np.shape(A)[0]))\n",
    "    l = tol\n",
    "    ltmp = 0\n",
    "    while abs(l-ltmp)>tol*abs(l):\n",
    "        Niter += 1\n",
    "        ltmp = l\n",
    "        if Niter>2*np.shape(A)[0]:\n",
    "            break\n",
    "        y = spl.solve_triangular(L,x,lower = 1)\n",
    "        z = spl.solve_triangular(U,y)\n",
    "        l = np.dot(x,z)\n",
    "        x = z/npl.norm(z)\n",
    "    return 1./l+sigma,x,Niter\n",
    "\n",
    "\n",
    "x0 = np.random.rand(np.shape(M)[0])\n",
    "\n",
    "l,u,Niter = TinvN2(M,x0,0.01,1e-10)\n",
    "print(l)\n",
    "print(Niter)"
   ]
  },
  {
   "cell_type": "markdown",
   "metadata": {},
   "source": [
    "#### Test de la vitesse de convergence des méthodes"
   ]
  },
  {
   "cell_type": "markdown",
   "metadata": {},
   "source": [
    "On calcule l'ensemble des valeurs propres de la matrice $M$ à l'aide de la fonction eig de numpy.linalg."
   ]
  },
  {
   "cell_type": "code",
   "execution_count": null,
   "metadata": {},
   "outputs": [],
   "source": [
    "valP,vecP = npl.eig(M)\n",
    "valP = sorted(valP,reverse = True)"
   ]
  },
  {
   "cell_type": "markdown",
   "metadata": {},
   "source": [
    " Tester la vitesse de convergence vers la 4ème valeur propre selon\n",
    "$\\sigma $, lorsqu'elles sont \n",
    "  rangées suivant l'ordre décroissant ; on choisira des valeurs de  de \n",
    "la forme \n",
    "$ \\sigma = \\left( \\frac{\\lambda_4 + \\lambda _5}{2} \\right) \n",
    " + \\frac{i}{10}\\, \\left( \\frac{\\lambda_4 - \\lambda _5}{2} \\right) $, \n",
    "$1\\leq i \\leq 9$.\n",
    "\n",
    "On pourra éventuellement comparer le nombre d'itération nécessaire\n",
    "à la convergence avec l'estimation que l'on peut en déduire \n",
    "et qui est donnée dans la section 3.1.3."
   ]
  },
  {
   "cell_type": "code",
   "execution_count": null,
   "metadata": {},
   "outputs": [],
   "source": [
    "sigma_arr = (valP[3]+valP[4])/2 + (np.array(range(9))+1)*(valP[3]-valP[4])/20\n",
    "Niter_Inf_arr,l_Inf_arr = np.zeros(9),np.zeros(9)\n",
    "Niter_N2_arr,l_N2_arr = np.zeros(9),np.zeros(9)\n",
    "Vit_conv = np.zeros(9)\n",
    "\n",
    "x = np.random.rand(272)\n",
    "for i in range(9):\n",
    "    Vit_conv[i] = abs((valP[3]-sigma_arr[i])/(valP[4]-sigma_arr[i]))\n",
    "    l,u,Niter = TinvInf(M,x,sigma_arr[i],1e-10)\n",
    "    Niter_Inf_arr[i] = Niter\n",
    "    l_Inf_arr[i] = l\n",
    "    l,u,Niter = TinvN2(M,x,sigma_arr[i],1e-10)\n",
    "    Niter_N2_arr[i] = Niter\n",
    "    l_N2_arr[i] = l\n",
    "print(\"Valeurs propres approximées pour la norme infinie:\")\n",
    "print(l_Inf_arr)\n",
    "print(\"Valeurs propres approximées pour la norme 2:\")\n",
    "print(l_N2_arr)\n",
    "print(\"Nombre total d'itérations pour la norme infinie:\")\n",
    "print(Niter_Inf_arr)\n",
    "print(\"Nombre total d'itérations pour la norme 2:\")\n",
    "print(Niter_N2_arr)"
   ]
  },
  {
   "cell_type": "markdown",
   "metadata": {},
   "source": [
    "#### La fonction Rayleigh"
   ]
  },
  {
   "cell_type": "markdown",
   "metadata": {},
   "source": [
    "Ecrire une fonction Rayleigh qui modifie TinvN2 \n",
    "suivant l'algorithme du tableau 1.3, page 19 du polycopié."
   ]
  },
  {
   "cell_type": "code",
   "execution_count": null,
   "metadata": {},
   "outputs": [],
   "source": [
    "def Rayleigh(A,x,tol):\n",
    "    # Arguments en entrée:\n",
    "    # A : la matrice\n",
    "    # x : le vecteur initial\n",
    "    # tol : le seuil de précision de la méthode\n",
    "    # Arguments en sortie:\n",
    "    # l : la valeur propre associée à u\n",
    "    # u : le vecteur propre le plus proche de x\n",
    "    # Niter : le nombre d'itérations de la méthode\n",
    "    \n",
    "    Niter = 0\n",
    "    x = x/npl.norm(x)\n",
    "    l = np.dot(x,np.dot(A,x))\n",
    "    ltmp = 0\n",
    "    while abs(l-ltmp)>tol*abs(ltmp):\n",
    "        Niter += 1\n",
    "        ltmp = l\n",
    "        if Niter>2*np.shape(A)[0]:\n",
    "            break\n",
    "        x = npl.solve(A-l*np.eye(np.shape(A)[0]),x)\n",
    "        x = x/npl.norm(x,2)\n",
    "        l = np.dot(x,np.dot(A,x))\n",
    "    return l,x,Niter\n",
    "\n",
    "x0 = np.random.rand(np.shape(M)[0])\n",
    "l,u,Niter = Rayleigh(M,x0,1e-10)\n",
    "print(l)\n",
    "print(Niter)"
   ]
  },
  {
   "cell_type": "markdown",
   "metadata": {},
   "source": [
    "Proposez une fonction qui combine PinvN2 et  Rayleigh\n",
    "pour le calcul de la plus petite valeur propre. Comparez les différentes \n",
    "méthodes pour la recherche de la plus petite valeur propre."
   ]
  },
  {
   "cell_type": "code",
   "execution_count": null,
   "metadata": {},
   "outputs": [],
   "source": [
    "def Combine(A,x,tol_Rayleigh,tol):\n",
    "    # Arguments en entrée:\n",
    "    # A : la matrice\n",
    "    # x : le vecteur initial\n",
    "    # tol_Rayleigh : le seuil à partir du quel on passe à la méthode de Rayleigh\n",
    "    # tol : le seuil de précision de la méthode\n",
    "    # Arguments en sortie:\n",
    "    # l : la valeur propre associée à u\n",
    "    # u : le vecteur propre le plus proche de x\n",
    "    # Niter : le nombre d'itérations de la méthode\n",
    "    \n",
    "    Niter = 0\n",
    "    x = x/npl.norm(x)\n",
    "    P,L,U = spl.lu(A)\n",
    "    l = tol\n",
    "    ltmp = 0\n",
    "    while abs(l-ltmp)>tol_Rayleigh*abs(l):\n",
    "        Niter += 1\n",
    "        ltmp = l\n",
    "        if Niter>2*np.shape(A)[0]:\n",
    "            break\n",
    "        y = spl.solve_triangular(L,x,lower = 1)\n",
    "        z = spl.solve_triangular(U,y)\n",
    "        l = np.dot(x,z)\n",
    "        x = z/npl.norm(z)\n",
    "    while abs(l-ltmp)>tol*abs(ltmp):\n",
    "        Niter += 1\n",
    "        ltmp = l\n",
    "        if Niter>2*np.shape(A)[0]:\n",
    "            break\n",
    "        x = npl.solve(A-l*np.eye(np.shape(A)[0]),x)\n",
    "        x = x/npl.norm(x,2)\n",
    "        l = np.dot(x,np.dot(A,x))\n",
    "    return l,x,Niter\n",
    "\n",
    "a = np.random.random(272)\n",
    "l,u,Niter1 = Combine(M,a,1e-3,1e-10)\n",
    "l,u,Niter2 = PinvN2(M,a,1e-10)\n",
    "print(\"Itérations pour la puissance inverse:\",Niter2)\n",
    "print(\"Itérations pour la méthode combinée:\",Niter1)\n",
    "print(\"Gaine en itérations:\",Niter2-Niter1)"
   ]
  },
  {
   "cell_type": "markdown",
   "metadata": {
    "collapsed": true
   },
   "source": [
    "#### Calculer plusieurs valeurs propres"
   ]
  },
  {
   "cell_type": "markdown",
   "metadata": {},
   "source": [
    "L'objectif est de calculer $d$ valeurs propres d'une même matrice symétrique, pour cela à l'itération $k$ on effectuera un algorithme de puissance itérée sur $d$ vecteurs en même temps : $(x_1^k,x_2^k,..x_d^k)$. On calcule donc les vecteurs $$y_i^k=A x_i^k \\text{ pour } i=1..d.$$ Finalement, comme on sait qu'au final les vecteurs propres de $A$ sont orthogonaux, on orthonormalise les vecteurs $(y_1^k,y_2^k,..y_d^k)$ par un procédé standard de Gram-Schmidt et on prend cette base orthonormalisée comme valeur de $(x_1^{k+1},x_2^{k+1},..x_d^{k+1})$.\n",
    "On vous donne ci-dessous un procédé de Gram-Schmidt qui prend une suite de vecteurs (mise sous forme de tableau à deux dimensions) et qui l'orthonormalise."
   ]
  },
  {
   "cell_type": "code",
   "execution_count": null,
   "metadata": {},
   "outputs": [],
   "source": [
    "def GramSchmidt(Y) :\n",
    "    [n,p]=Y.shape\n",
    "    actual_index=0\n",
    "    for i in np.arange(p) :\n",
    "        for j in np.arange(i) :\n",
    "            Y[:,i]-=np.dot(Y[:,i],Y[:,j])*Y[:,j]\n",
    "        Y[:,i]/=np.linalg.norm(Y[:,i])\n",
    "\n",
    "A = np.reshape(np.arange(20,dtype=float),(5,4))\n",
    "print(A)\n",
    "GramSchmidt(A)\n",
    "print(A.T.dot(A))"
   ]
  },
  {
   "cell_type": "markdown",
   "metadata": {},
   "source": [
    "Implémenter un algorithme de calcul des premières valeurs propres. Tester avec la matrice symétrique du Laplacien avec conditions aux bord de Dirichet donné dans la cellule suivante. La formule des premières valeurs propres du Laplacien à $n$ points est :\n",
    "$$ l[k]= 4(n+1)^2sin^2\\left(\\frac{k\\pi}{2(n+1)}\\right)$$"
   ]
  },
  {
   "cell_type": "code",
   "execution_count": null,
   "metadata": {},
   "outputs": [],
   "source": [
    "def Laplacian(n) :\n",
    "    return (n+1)**2*sp.sparse.diags([2*np.ones(n),-1*np.ones(n-1),-1*np.ones(n-1)], [0, -1, 1]).tocsc()\n",
    "def PinvN2(A,X,tol):\n",
    "    # Arguments en entrée:\n",
    "    # A : la matrice\n",
    "    # X : le vecteur initial (possiblement une matrice)\n",
    "    # tol : le seuil de précision de la méthode\n",
    "    # Arguments en sortie:\n",
    "    # l : les plus petites valeurs propres de la matrice A\n",
    "    # u : les vecteur propres associé à l\n",
    "    # Niter : le nombre d'itérations de la méthode\n",
    "    \n",
    "    Niter = 0\n",
    "    GramSchmidt(X)\n",
    "    p = np.shape(X)[1]\n",
    "    l = tol*np.ones((p,1))\n",
    "    ltmp = np.zeros((p,1))\n",
    "    while npl.norm(l-ltmp,np.inf)>tol*npl.norm(ltmp,np.inf):\n",
    "        Niter += 1\n",
    "        ltmp = l\n",
    "        if Niter>2*np.shape(A)[0]:\n",
    "            break\n",
    "        X = sspl.spsolve(A,X)\n",
    "        GramSchmidt(X)\n",
    "        B = X.T.dot(A.dot(X))\n",
    "        l = np.diag(B)\n",
    "    return l,X,Niter\n",
    "\n",
    "n = 500\n",
    "p = 5\n",
    "X = np.random.rand(n,p)\n",
    "l,X,niter=PinvN2(Laplacian(n),X,1e-6)\n",
    "lexact = 4*((n+1)*np.sin(np.arange(1,n+1)*np.pi/(2*(n+1))))**2\n",
    "print(\"Erreur entre les valeurs propres calculées et les valeurs propres exactes:\")\n",
    "print(l - lexact[0:5])"
   ]
  }
 ],
 "metadata": {
  "kernelspec": {
   "display_name": "Python 3",
   "language": "python",
   "name": "python3"
  },
  "language_info": {
   "codemirror_mode": {
    "name": "ipython",
    "version": 3
   },
   "file_extension": ".py",
   "mimetype": "text/x-python",
   "name": "python",
   "nbconvert_exporter": "python",
   "pygments_lexer": "ipython3",
   "version": "3.8.3"
  }
 },
 "nbformat": 4,
 "nbformat_minor": 1
}
