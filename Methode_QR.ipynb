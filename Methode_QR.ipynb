{
 "cells": [
  {
   "cell_type": "markdown",
   "metadata": {},
   "source": [
    "# Implémentation de l'algorithme QR standard"
   ]
  },
  {
   "cell_type": "code",
   "execution_count": null,
   "metadata": {},
   "outputs": [],
   "source": [
    "import numpy as np\n",
    "import numpy.linalg as npl\n",
    "import scipy as sp\n",
    "import scipy.linalg as spl\n",
    "import matplotlib.pyplot as plt"
   ]
  },
  {
   "cell_type": "markdown",
   "metadata": {},
   "source": [
    "Dans ce travail, on se propose d'implémenter l'algorithme QR en raffinant la méthode avec la mise sous forme Hessenberg."
   ]
  },
  {
   "cell_type": "markdown",
   "metadata": {},
   "source": [
    "On vous demande d'écrire une fonction `Eig_QR` qui implante l'algorithme QR suivant l'algorithme 1.8 de la page 27 du polycopié. Cet algorithme prendra la forme suivante:\n",
    "\n",
    "$$\n",
    "\\left\\{\\begin{array}{ll}\n",
    "A^{(0)} = A\\in M_n(\\mathbb{R}),\\\\\n",
    "U^{(0)} = \\textrm{Id},\\\\\n",
    "\\textrm{Pour }k=1,2,\\cdots\\\\\\left\\{\\begin{array}{ll}\n",
    "Q^{(k)}R^{(k)} = A^{(k-1)},\\\\\n",
    "A^{(k)} = R^{(k)}Q^{(k)},\\\\\n",
    "U^{(k)} = Q^{(k)}U^{(k-1)}.\\\\\n",
    "\\end{array}\\right.\n",
    "\\end{array}\\right.\n",
    "$$\n",
    "\n",
    "On sait que la méthode QR va nous donner en réalité une décomposition de Schur de la matrice $A$. C'est-à-dire que la suite $A^{(k)}$ va tendre vers une matrice triangulaire supérieure $R$ et la suite $U^{(k)}$ va tendre vers une matrice orthogonale $Q$ telles que\n",
    "\n",
    "$$\n",
    "A = Q^{(k)}R^{(k)}Q^{(k)*}\\to QRQ* = A.\n",
    "$$\n",
    "\n",
    "On aura donc accès aux valeurs propres de la matrice $A$ sur la diagonale de la matrice $R$."
   ]
  },
  {
   "cell_type": "markdown",
   "metadata": {},
   "source": [
    "En pratique, on utilisera, pour la factorisation QR, la méthode de Householder. On prendra le critère d'arrêt suivant:\n",
    "$$\n",
    "sup_{1\\leq j\\leq n} \\frac{|A_{j,j}^{(k)}-A_{j,j}^{(k-1)}|}{|A_{j,j}^{(k-1)}|} < \\varepsilon,\n",
    "$$\n",
    "où $\\varepsilon>0$ est un paramètre que l'on fixe.\n",
    "\n",
    "Vous prendrez en arguments d'entrée:\n",
    "- M: la matrice dont on cherche les éléments propres,\n",
    "- tol: la tolérance pour le test d'arrêt (que l'on prendra égal à $10^{-5}$ par défaut),\n",
    "- itermax: le nombre maximal d'itérations (que l'on prendra égal à $100$ fois la taille de la matrice par défaut).\n",
    "\n",
    "et en arguments de sortie:\n",
    "- M: la matrice $A^{(k)}$,\n",
    "- U: la matrice $U^{(k)}$,\n",
    "- L: un vecteur contenant les valeurs propres calculées,\n",
    "- niter: le nombre total d'itérations."
   ]
  },
  {
   "cell_type": "code",
   "execution_count": null,
   "metadata": {},
   "outputs": [],
   "source": [
    "def  House(a):\n",
    "    # Cette fonction calcule les donnees permettent de\n",
    "    # definir la transformation elementaire qui envoie \n",
    "    # le vecteur f sur un vecteur parallele au premier \n",
    "    # vecteur de la base canonique.\n",
    "\n",
    "    s =  np.sign(a[0])\n",
    "    alpha = npl.norm(a)\n",
    "    beta = alpha*(alpha + abs(a[0]))\n",
    "    v1 = a[0] + s*alpha\n",
    "    alpha = -s*alpha;\n",
    "    return v1, beta, alpha\n",
    "\n",
    "def MatQHouse(V, beta):\n",
    "    sV = np.shape(V)\n",
    "    Q = np.eye(sV[0],sV[1])\n",
    "    for k in sorted(range(sV[1]),reverse=True):\n",
    "        w = np.dot(V[range(k,sV[0]),k],Q[k:sV[0],k:sV[1]])/beta[k]\n",
    "        Q[k:sV[0],k:sV[1]] -= np.outer(V[range(k,sV[0]), k],w)\n",
    "    return Q\n",
    "\n",
    "def TriangHouse(A):\n",
    "    F = np.copy(A)\n",
    "    sF = np.shape(F)\n",
    "    beta  = np.zeros(sF[1])\n",
    "    V = np.zeros(sF)\n",
    "    v = np.zeros(sF[0])\n",
    "    for k in range(sF[1]):\n",
    "        v[k], beta[k], alpha = House(F[range(k,sF[0]),k])\n",
    "        F[k,k] = alpha\n",
    "        v[range(k+1,sF[0])] = F[range(k+1,sF[0]),k]\n",
    "        F[k:sF[0],k+1:sF[1]] -= np.outer(v[range(k,sF[0])],np.dot(v[range(k,sF[0])],F[k:sF[0],k+1:sF[1]]))/beta[k]\n",
    "        V[range(k,sF[0]),k] = v[range(k,sF[0])]\n",
    "    R = np.triu(F) \n",
    "    return R[range(sF[1]),:], V, beta\n",
    "\n",
    "def QR_House(A):\n",
    "    R,V,beta = TriangHouse(A)\n",
    "    return MatQHouse(V, beta),R"
   ]
  },
  {
   "cell_type": "code",
   "execution_count": null,
   "metadata": {},
   "outputs": [],
   "source": [
    "def Eig_QR(A,tol = 1e-5, itermax = None):\n",
    "    n,m = np.shape(A)\n",
    "    if itermax is None:\n",
    "        itermax = 1000*n\n",
    "    M = np.copy(A)\n",
    "    k = 0\n",
    "    crit = 2*tol\n",
    "    L_0 = np.zeros(n)\n",
    "    U = np.eye(n)\n",
    "    while (k<itermax) & (crit>tol):\n",
    "        k += 1\n",
    "        Q,R = QR_House(M)\n",
    "        M = R.dot(Q)\n",
    "        U = U.dot(Q)\n",
    "        L_1 = np.diag(M)\n",
    "        crit = np.max(np.abs(L_1 - L_0)/np.abs(L_1))\n",
    "        L_0 = L_1\n",
    "    return M,U,L_0,k"
   ]
  },
  {
   "cell_type": "markdown",
   "metadata": {},
   "source": [
    "> **À faire:** Vous testerez cette fonction sur deux matrices aléatoires (symétrique et non symétrique) de taille $10$ et de valeurs propres $1,2,\\ldots,10$ en fixant `itermax = 1, 3, 7, 100, 200` afin de suivre l'évolution de la matrice $A^{(k)}$. Que peut-on observer? Qu'observez vous quant à l'ordre des valeurs propres dans le vecteur `L`?"
   ]
  },
  {
   "cell_type": "code",
   "execution_count": null,
   "metadata": {},
   "outputs": [],
   "source": [
    "D = np.diag(np.array([1.,2.,3.,4.,5.,6.,7.,8.,9.,10.]))\n",
    "P = 2*(np.random.random((10,10))-0.5*np.ones((10,10)))\n",
    "A = P.dot(D.dot(npl.inv(P)))\n",
    "plt.imshow(A)\n",
    "plt.colorbar()\n",
    "plt.show()\n",
    "for k in [1,3,7,20,100]:\n",
    "    M,U,L,niter = Eig_QR(A,itermax = k)\n",
    "    plt.imshow(M)\n",
    "    plt.colorbar()\n",
    "    plt.show()"
   ]
  },
  {
   "cell_type": "code",
   "execution_count": null,
   "metadata": {},
   "outputs": [],
   "source": [
    "D = np.diag(np.array([1.,2.,3.,4.,5.,6.,7.,8.,9.,10.]))\n",
    "P = spl.orth(2*(np.random.random((10,10))-0.5*np.ones((10,10))))\n",
    "A = P.dot(D.dot(npl.inv(P)))\n",
    "plt.imshow(A)\n",
    "plt.colorbar()\n",
    "plt.show()\n",
    "for k in [1,3,7,20,100]:\n",
    "    M,U,L,niter = Eig_QR(A,itermax = k)\n",
    "    plt.imshow(M)\n",
    "    plt.colorbar()\n",
    "    plt.show()"
   ]
  },
  {
   "cell_type": "markdown",
   "metadata": {},
   "source": [
    "## Implémentation de la méthode QR avec mise sous forme de Hessenberg et rotations de Givens"
   ]
  },
  {
   "cell_type": "markdown",
   "metadata": {},
   "source": [
    "Nous allons à présent améliorer la vitesse de la méthode QR en mettant au préalable la matrice dont on veut calculer les valeurs propres sous la forme de Hessenberg. Dans ce cadre, on sait que la suite de matrice $(A^{(k)})_{k\\geq 0}$ donnée par la méthode QR sera aussi sous la forme de Hessenberg et un choix raisonnable pour la factorisation QR est alors d'utiliser les rotations de Givens.\n",
    "\n",
    "On donne ci-dessous la fonction `HessenH`qui permet de mettre une matrice sous forme de Hessenberg à l'aide de la fonction `House` donnée plus haut. La fonction `HessenH` prend en argument d'entrée une matrice et renvoit en argument de sortie une matrice de Hessenberg ainsi qu'une matrice orthogonale."
   ]
  },
  {
   "cell_type": "code",
   "execution_count": null,
   "metadata": {},
   "outputs": [],
   "source": [
    "def HessenH(M):\n",
    "# Cette fonction revoit la factorisation M = Q H Q^T où \n",
    "# H est une matrice Hessenberg et Q une matrice orthogonale.\n",
    "# La matrice H est donc semblable a la matrice M. \n",
    "# Cette fonction utilise la fonction\n",
    "# House.\n",
    "    n = np.shape(M)[0]\n",
    "    Q = np.eye(n)\n",
    "    for k in range(n-2):\n",
    "        v, beta, alpha = House(M[k+1:n,k])\n",
    "        w = np.zeros(n-k-1)\n",
    "        w[0] = v\n",
    "        w[1:n-1-k] = np.array(M[k+2:n,k])\n",
    "        for P in [M,Q]:\n",
    "            P[k+1:n,k:n] = P[k+1:n,k:n] - np.outer(w,np.dot(P[k+1:n,k:n].T,w)/beta)\n",
    "            P[0:n,k+1:n] = P[0:n,k+1:n] - np.outer(P[0:n,k+1:n].dot(w),w/beta)\n",
    "    return np.triu(M,-1),Q"
   ]
  },
  {
   "cell_type": "markdown",
   "metadata": {},
   "source": [
    "On teste ci-dessous la fonction `HessenH` sur une matrice carré aléatoire non symétrique de taille 10."
   ]
  },
  {
   "cell_type": "code",
   "execution_count": null,
   "metadata": {},
   "outputs": [],
   "source": [
    "A = np.random.random((10,10))\n",
    "plt.imshow(A)\n",
    "plt.colorbar()\n",
    "plt.show()\n",
    "H,Q = HessenH(A)\n",
    "plt.imshow(H)\n",
    "plt.colorbar()\n",
    "plt.show()"
   ]
  },
  {
   "cell_type": "markdown",
   "metadata": {},
   "source": [
    "On se propose à présent d'implémenter un algorithme de factorisation QR par rotations de Givens spécifiquement pour les matrices de type Hessenberg. Ceci simplifie grandement la tâche puisqu'il ne faut éliminer qu'un seul terme par colonne. Plus précisément, on va avoir, pour une matrice $H\\in M_n(\\mathbb{R})$ de Hessenberg,\n",
    "\n",
    "$$\n",
    "\\Omega_{n-1}\\ldots\\Omega_1 H = R,\n",
    "$$\n",
    "\n",
    "où $R\\in M_n(\\mathbb{R})$ est une matrice triangulaire supérieure. Les matrices de Givens $\\Omega_k\\in M_{n}(\\mathbb{R})$ vont donc être de la forme\n",
    "\n",
    "$$\n",
    "\\Omega_k = \\begin{bmatrix}\\textrm{Id}_{k-1} & 0 & 0 \\\\0 & \\omega_k & 0\\\\ 0 & 0 & \\textrm{Id}_{n - k - 1} \\end{bmatrix},\n",
    "$$\n",
    "où $\\omega_k$ est une matrice de rotation dans le plan de la forme\n",
    "\n",
    "$$\n",
    "\\omega_k = \\begin{bmatrix}\n",
    "c_k & s_k \\\\ -s_k & c_k\n",
    "\\end{bmatrix},\n",
    "$$\n",
    "\n",
    "avec $c_k^2+s_k^2 = 1$, calculée de manière à annuler le coefficient de la sous-diagonale de la $k$-ième colonne. La matrice $Q$ de la factorisation QR de $H$ est alors donnée par\n",
    "\n",
    "$$\n",
    "Q = (\\Omega_{n-1}\\ldots\\Omega_1)^T.\n",
    "$$\n",
    "\n",
    "On remarque qu'il est possible de calculer itérativement $Q$ de la manière suivante\n",
    "\n",
    "$$\n",
    "\\left\\{\\begin{array}{ll}\n",
    "U^{(1)} = \\textrm{Id},\n",
    "\\\\ U^{(k+1)} = \\Omega_k U^{(k)},\\quad\\textrm{pour}\\quad 1\\leq k\\leq n-1,\n",
    "\\\\ Q = (U^{(n)})^T.\n",
    "\\end{array}\\right.\n",
    "$$\n",
    "\n",
    "On propose donc l'algorithme suivant pour calculer la factorisation QR d'une matrice $H\\in M_n(\\mathbb{R})$ de type Hessenberg:\n",
    "\n",
    "$$\n",
    "\\left\\{\\begin{array}{ll}\n",
    "H^{(1)} = H,\\\\\n",
    "U^{(1)} = \\textrm{Id},\\\\\n",
    "\\textrm{Pour}\\quad k = 1,2,\\ldots,n-1:\\\\\n",
    "\\left\\{\\begin{array}{ll}\n",
    "\\textrm{Evaluer }\\omega_k\\textrm{ à partir de la }k\\textrm{-ième colonne de }R^{(k)},\\\\\n",
    "H^{(k+1)} = \\Omega_k H^{(k)},\\\\\n",
    "U^{(k+1)} = \\Omega_k U^{(k)},\n",
    "\\end{array}\\right.\\\\\n",
    "R = H^{(n)},\\\\\n",
    "Q = (U^{(n)})^T.\n",
    "\\end{array}\\right.\n",
    "$$\n",
    "\n",
    "On remarque que l'on a pas réellement de calculer la matrice $\\Omega_k$ dans l'algorithme précédent. Pour toute matrice $B\\in M_n(\\mathbb{R})$, le produit $C = \\Omega_{k} B$ se fait en posant $C = B$ puis:\n",
    "\n",
    "``\n",
    "C[k,:] = c_k*B[k,:] + s_k*B[k+1,:]\n",
    "C[k+1,:] = c_k*B[k+1,:] - s_k*B[k,:]\n",
    "``\n",
    "\n",
    "** Attention: faire des np.copy pour les tableaux!**"
   ]
  },
  {
   "cell_type": "markdown",
   "metadata": {},
   "source": [
    "> **À faire:** Implémenter la fonction `QR_HessenH` qui met en oeuvre la factorisation QR d'une matrice de Hessenberg selon l'algorithme précédent. Elle prendra en entrée une matrice et donnera en sortie les matrices Q et R de la factorisation QR. On testera cette fonction sur une matrice aléatoire de type Hessenberg en vérifiant bien que l'on a $A =QR$."
   ]
  },
  {
   "cell_type": "code",
   "execution_count": null,
   "metadata": {},
   "outputs": [],
   "source": [
    "def QR_HessenH(M):\n",
    "    n = np.shape(M)[0]\n",
    "    U = np.eye(n)\n",
    "    R = np.copy(M)\n",
    "    for k in range(n-1):\n",
    "        x = R[k:k+2,k]\n",
    "        l = npl.norm(x)\n",
    "        c = x[0]/l\n",
    "        s = x[1]/l\n",
    "        for P in [U,R]:\n",
    "            P_tmp_k = np.copy(P[k,:])\n",
    "            P_tmp_kp1 = np.copy(P[k+1,:])\n",
    "            P[k,:] = c*P_tmp_k + s*P_tmp_kp1\n",
    "            P[k+1,:] = c*P_tmp_kp1 - s*P_tmp_k\n",
    "    Q = U.T\n",
    "    return Q,R"
   ]
  },
  {
   "cell_type": "code",
   "execution_count": null,
   "metadata": {},
   "outputs": [],
   "source": [
    "A = np.triu(np.random.random((10,10)),-1)\n",
    "Q,R = QR_HessenH(A)\n",
    "np.allclose(A,Q.dot(R))"
   ]
  },
  {
   "cell_type": "markdown",
   "metadata": {},
   "source": [
    "> **À faire:** Implémenter la fonction `Eig_QR_HessenH` qui met en oeuvre la méthode QR avec mise sous forme de Hessenberg et factorisation QR à l'aide des rotations de Givens. Vous prendrez les mêmes arguments d'entrée et sortie que pour la fonction `Eig_QR`."
   ]
  },
  {
   "cell_type": "code",
   "execution_count": null,
   "metadata": {},
   "outputs": [],
   "source": [
    "def Eig_QR_HessenH(A,tol = 1e-5, itermax = None):\n",
    "    n,m = np.shape(A)\n",
    "    if itermax is None:\n",
    "        itermax = 1000*n\n",
    "    H,Q = HessenH(np.copy(A))\n",
    "    k = 0\n",
    "    crit = 2*tol\n",
    "    L_0 = np.zeros(n)\n",
    "    U = np.eye(n)\n",
    "    while (k<itermax) & (crit>tol):\n",
    "        k += 1\n",
    "        Q,R = QR_HessenH(H)\n",
    "        H = R.dot(Q)\n",
    "        U = U.dot(Q)\n",
    "        L_1 = np.diag(H)\n",
    "        crit = np.max(np.abs(L_1 - L_0)/np.abs(L_1))\n",
    "        L_0 = L_1\n",
    "    return H,U,L_0,k"
   ]
  },
  {
   "cell_type": "markdown",
   "metadata": {},
   "source": [
    "> **À faire:** Vous testerez cette fonction sur une matrice aléatoire de taille $10$ et de valeurs propres $1,2,\\ldots,10$ en fixant `itermax = 1, 3, 7, 100, 200` afin de suivre l'évolution de la matrice $A^{(k)}$. Que peut-on observer?"
   ]
  },
  {
   "cell_type": "code",
   "execution_count": null,
   "metadata": {},
   "outputs": [],
   "source": [
    "D = np.diag(np.array([1.,2.,3.,4.,5.,6.,7.,8.,9.,10.]))\n",
    "P = 2*(np.random.random((10,10))-0.5*np.ones((10,10)))\n",
    "A = P.dot(D.dot(npl.inv(P)))\n",
    "plt.imshow(A)\n",
    "plt.colorbar()\n",
    "plt.show()\n",
    "for k in [1,3,7,20,100]:\n",
    "    M,U,L,niter = Eig_QR_HessenH(A,itermax = k)\n",
    "    plt.imshow(M)\n",
    "    plt.colorbar()\n",
    "    plt.show()"
   ]
  },
  {
   "cell_type": "markdown",
   "metadata": {},
   "source": [
    "## Implémentation de la méthode QR avec mise sous forme de Hessenberg et translation"
   ]
  },
  {
   "cell_type": "markdown",
   "metadata": {},
   "source": [
    "Nous allons à présent mettre en place les astuces vues en cours pour accélérer la convergence de la méthode QR. Dans le cadre de la méthode QR avec mise sous forme Hessenberg, on va mettre en place une stratégie de translation afin d'accélérer la convergence vers $0$ des coefficients de la sous-diagonale. L'algorithme est tiré du tableau 1.11 page 33 du polycopié. Il prend la forme suivante:\n",
    "\n",
    "$$\n",
    "\\left\\{\\begin{array}{ll}\n",
    "\\textrm{Choix d'une translation }\\mu,\\\\\n",
    "\\textrm{Mise sous forme Hessenberg } H = U^T A U,\\\\\n",
    "H^{(0)} = H\\in M_n(\\mathbb{R}),\\\\\n",
    "U^{(0)} = \\textrm{Id},\\\\\n",
    "\\textrm{Pour }k=1,2,\\cdots\\\\\\left\\{\\begin{array}{ll}\n",
    "Q^{(k)}R^{(k)} = H^{(k-1)} - \\mu\\textrm{Id},\\\\\n",
    "H^{(k)} = R^{(k)}Q^{(k)} + \\mu\\textrm{Id},\\\\\n",
    "U^{(k)} = Q^{(k)}U^{(k-1)}.\\\\\n",
    "\\end{array}\\right.\n",
    "\\end{array}\\right.\n",
    "$$"
   ]
  },
  {
   "cell_type": "markdown",
   "metadata": {},
   "source": [
    "> **À faire:** Implémenter la fonction `Eig_QR_HessenH_Tr` qui met en oeuvre la méthode QR avec mise sous forme de Hessenberg, factorisation QR à l'aide des rotations de Givens et translation de paramètre $\\mu$. Vous prendrez les mêmes arguments d'entrée, avec en plus un scalaire représentant le paramètre de translation $\\mu$, et sortie que pour la fonction `Eig_QR`."
   ]
  },
  {
   "cell_type": "code",
   "execution_count": null,
   "metadata": {},
   "outputs": [],
   "source": [
    "def Eig_QR_HessenH_Tr(A, mu = 0, tol = 1e-5, itermax = None):\n",
    "    n,m = np.shape(A)\n",
    "    if itermax is None:\n",
    "        itermax = 1000*n\n",
    "    H,Q = HessenH(np.copy(A))\n",
    "    k = 0\n",
    "    crit = 2*tol\n",
    "    L_0 = np.zeros(n)\n",
    "    U = np.eye(n)\n",
    "    I = np.eye(n)\n",
    "    while (k<itermax) & (crit>tol):\n",
    "        k += 1\n",
    "        Q,R = QR_HessenH(H - mu*I)\n",
    "        H = R.dot(Q) + mu*I\n",
    "        H = np.triu(H,-1)\n",
    "        U = U.dot(Q)\n",
    "        L_1 = np.diag(H)\n",
    "        crit = np.max(np.abs(L_1 - L_0)/np.abs(L_1))\n",
    "        L_0 = L_1\n",
    "    return H,U,L_0,k"
   ]
  },
  {
   "cell_type": "markdown",
   "metadata": {},
   "source": [
    "> **À faire:** Pour une matrices aléatoire de taille 10 dont le spectre est $\\{1,2,\\ldots,10\\}$, on évalue le module des coefficients de la sous-diagonale de la matrice $H^{(k)}$ et l'erreur absolue sur les valeurs propres calculées en fonction de $k$. En testant plusieurs fois le script avec $\\mu$ proche d'une valeur propre de votre choix:\n",
    "- quel est le coefficient de la sous-diagonale qui converge le plus vite vers 0?\n",
    "- quel est l'ordre des valeurs propres renvoyées par l'algorithme?\n",
    "- ainsi, quelle est la valeur propre qui converge le plus vite?"
   ]
  },
  {
   "cell_type": "code",
   "execution_count": null,
   "metadata": {},
   "outputs": [],
   "source": [
    "mu = 6.1\n",
    "\n",
    "D = np.diag(np.array([1.,2.,3.,4.,5.,6.,7.,8.,9.,10.]))\n",
    "P = 2*(np.random.random((10,10))-0.5*np.ones((10,10)))\n",
    "A = P.dot(D.dot(npl.inv(P)))\n",
    "Dm1 = np.zeros((9,10))\n",
    "for k in range(10):\n",
    "    M,U,L,niter = Eig_QR_HessenH_Tr(A,mu,itermax = 10*(k+1))\n",
    "    Dm1[:,k] = np.diag(M,-1)\n",
    "plt.imshow(np.log10(abs(Dm1)))\n",
    "plt.title(\"Modules des coefficients de la sous-diagonale en log10\")\n",
    "plt.colorbar()\n",
    "plt.show()\n",
    "M,U,L,niter = Eig_QR_HessenH_Tr(A,mu)\n",
    "print(\"Valeurs propres calculées par l'algorithme: \",L)"
   ]
  },
  {
   "cell_type": "markdown",
   "metadata": {},
   "source": [
    "## Implémentation de la méthode QR avec mise sous forme de Hessenberg, translation de Rayleigh et déflation"
   ]
  },
  {
   "cell_type": "markdown",
   "metadata": {},
   "source": [
    "A la vue des résultats précédents, lors des itérations de la méthode QR, on voit qu'il peut être intéressant de déflater la matrice $H^{(k)}$ lorsque le dernier coefficient de la sous-diagonale de $H^{(k)}$ est suffisamment petit. A ce moment là, on arrête la boucle principale de la méthode, on stocke $H_{n,n}^{(k)}$ comme étant une approximation de valeur propre et on relance la méthode QR sur la sous-matrice de $H^{(k)}$ dont on a enlevé la dernière colonne et la dernière ligne. D'autre part, sachant que c'est le dernier coefficient qui s'annule, on peut appliquer la translation de Rayleigh en choisissant une translation qui évolue lors de l'algorithme\n",
    "\n",
    "$$\n",
    "\\mu^{(k)} = H^{(k)}_{n,n}.\n",
    "$$\n",
    "\n",
    "On obtient alors l'algorithme suivant qui est similaire à celui du tableau 1.12 page 35 du polycopié:\n",
    "\n",
    "$$\n",
    "\\left\\{\\begin{array}{ll}\n",
    "\\textrm{Choix d'une translation }\\mu,\\\\\n",
    "\\textrm{Mise sous forme Hessenberg } H = U^T A U,\\\\\n",
    "H^{(0)} = H\\in M_n(\\mathbb{R}),\\\\\n",
    "U^{(0)} = \\textrm{Id},\\\\\n",
    "\\textrm{Pour }k=1,2,\\cdots\\\\\\left\\{\\begin{array}{ll}\n",
    "\\mu^{(k)} = H^{(k)}_{n,n},\\\\\n",
    "Q^{(k)}R^{(k)} = H^{(k-1)} - \\mu^{(k)}\\textrm{Id},\\\\\n",
    "H^{(k)} = R^{(k)}Q^{(k)} + \\mu^{(k)}\\textrm{Id},\\\\\n",
    "\\textrm{Si }H^{(k)}_{n-1,n} < \\varepsilon :\\\\\\left\\{\\begin{array}{ll}\n",
    "\\mu^{(k)}\\textrm{ est l'approximation d'une valeur propre,}\\\\\n",
    "\\textrm{Arrêt de la boucle sur }k\\textrm{ et relance de l'algorithme sur la sous-matrice }H^{(k)}_{(n-1,n-1)},\n",
    "\\end{array}\\right.\n",
    "\\end{array}\\right.\n",
    "\\end{array}\\right.\n",
    "$$\n",
    "\n",
    "Le critère d'arrêt est donc fixé, implicitement, à partir du dernier coefficient de la sous-diagonale. On remarque aussi que, lorsque la sous-matrice $H^{(k)}_{(n-1,n-1)}$ est un scalaire, on arrête totalement l'algorithme."
   ]
  },
  {
   "cell_type": "markdown",
   "metadata": {},
   "source": [
    "> **À faire:** Implémenter la fonction `Eig_QR_Rayleigh` qui met en oeuvre la méthode QR avec mise sous forme de Hessenberg, factorisation QR à l'aide des rotations de Givens, translation de Rayleigh et déflation. Vous prendrez les mêmes arguments d'entrée pour la fonction `Eig_QR` mais uniquement le nombre total d'itérations et les valeurs propres en sortie."
   ]
  },
  {
   "cell_type": "code",
   "execution_count": null,
   "metadata": {},
   "outputs": [],
   "source": [
    "def Eig_QR_Rayleigh(A, tol = 1e-5, itermax = None):\n",
    "    n,m = np.shape(A)\n",
    "    if itermax is None:\n",
    "        itermax = 1000*n\n",
    "    H,Q = HessenH(np.copy(A))\n",
    "    mu = H[n-1,n-1]\n",
    "    k = 0\n",
    "    I = np.eye(n)\n",
    "    while (k<itermax):\n",
    "        k += 1\n",
    "        Q,R = QR_HessenH(H - mu*I)\n",
    "        H = R.dot(Q) + mu*I\n",
    "        H = np.triu(H,-1)\n",
    "        mu = H[n-1,n-1]\n",
    "        crit = abs(H[n-1,n-2])\n",
    "        L = np.diag(H)\n",
    "        if crit<tol:\n",
    "            if n > 2:\n",
    "                L,ks = Eig_QR_Rayleigh(H[0:n-1,0:n-1], tol, itermax)\n",
    "                L = np.append(L,mu)\n",
    "                k = k + ks\n",
    "            else:\n",
    "                L = np.diag(H)\n",
    "            break\n",
    "    return L,k"
   ]
  },
  {
   "cell_type": "markdown",
   "metadata": {},
   "source": [
    "> **À faire:** Pour une matrices aléatoire de taille 100 dont le spectre est $\\{1,2,\\ldots,100\\}$ et en moyennant sur une vingtaine de réalisations, vous comparerez le nombre total d'itérations nécessaires à la convergence de l'algorithme QR standard et celui avec déflation. Quelle conclusion en tirez vous?"
   ]
  },
  {
   "cell_type": "code",
   "execution_count": null,
   "metadata": {},
   "outputs": [],
   "source": [
    "N = 20\n",
    "n = 50\n",
    "niter = np.zeros((2,N))\n",
    "for k in range(N):\n",
    "    D = np.diag(np.array(range(1,n+1)))\n",
    "    P = 2*(np.random.random((n,n))-0.5*np.ones((n,n)))\n",
    "    A = P.dot(D.dot(npl.inv(P)))\n",
    "    niter[0,k] = Eig_QR(A)[3]\n",
    "    niter[1,k] = Eig_QR_Rayleigh(A)[1]\n",
    "plt.plot(niter[0,:], label = 'QR standard')\n",
    "plt.plot(niter[1,:], label = 'QR avec déflation')\n",
    "plt.title(\"Nombre d'itérations pour converger\")\n",
    "plt.legend()\n",
    "plt.show()"
   ]
  },
  {
   "cell_type": "markdown",
   "metadata": {},
   "source": [
    "> **À faire:** Pour finir, proposer une amélioration pour la méthode QR avec déflation afin d'accélérer encore l'algorithme. Implémenter votre nouvelle méthode et tester le gain en itérations."
   ]
  },
  {
   "cell_type": "code",
   "execution_count": null,
   "metadata": {},
   "outputs": [],
   "source": [
    "def Eig_QR_Defla(A, tol = 1e-5, itermax = None):\n",
    "    n,m = np.shape(A)\n",
    "    if n < 2:\n",
    "        return A,0\n",
    "    if itermax is None:\n",
    "        itermax = 1000*n\n",
    "    H,Q = HessenH(np.copy(A))\n",
    "    mu = H[n-1,n-1]\n",
    "    k = 0\n",
    "    I = np.eye(n)\n",
    "    Sd = np.zeros((n-1,1))\n",
    "    L = []\n",
    "    while (k<itermax):\n",
    "        k += 1\n",
    "        Q,R = QR_HessenH(H - mu*I)\n",
    "        H = R.dot(Q) + mu*I\n",
    "        H = np.triu(H,-1)\n",
    "        mu = H[n-1,n-1]\n",
    "        for l in range(n-1):\n",
    "            Sd[l] = np.copy(H[l+1,l])\n",
    "        i = np.argmin(abs(Sd))\n",
    "        if abs(Sd[i])<tol:\n",
    "            L1,ks1 = Eig_QR_Defla(H[0:i+1,0:i+1], tol, itermax)\n",
    "            L2,ks2 = Eig_QR_Defla(H[i+1:n,i+1:n], tol, itermax)\n",
    "            L = np.append(L,L2)\n",
    "            L = np.append(L,L1)\n",
    "            k = k + ks1 + ks2\n",
    "            break\n",
    "    return L,k"
   ]
  },
  {
   "cell_type": "code",
   "execution_count": null,
   "metadata": {},
   "outputs": [],
   "source": [
    "n = 100\n",
    "D = np.diag(np.array(range(1,n+1)))\n",
    "P = 2*(np.random.random((n,n))-0.5*np.ones((n,n)))\n",
    "A = P.dot(D.dot(npl.inv(P)))\n",
    "L,niter = Eig_QR_Rayleigh(A)\n",
    "print(niter)\n",
    "L,niter = Eig_QR_Defla(A)\n",
    "print(niter)"
   ]
  }
 ],
 "metadata": {
  "kernelspec": {
   "display_name": "Python 3",
   "language": "python",
   "name": "python3"
  },
  "language_info": {
   "codemirror_mode": {
    "name": "ipython",
    "version": 3
   },
   "file_extension": ".py",
   "mimetype": "text/x-python",
   "name": "python",
   "nbconvert_exporter": "python",
   "pygments_lexer": "ipython3",
   "version": "3.8.3"
  }
 },
 "nbformat": 4,
 "nbformat_minor": 1
}